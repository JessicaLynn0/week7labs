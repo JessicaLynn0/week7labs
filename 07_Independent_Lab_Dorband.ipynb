{
 "cells": [
  {
   "cell_type": "code",
   "execution_count": 80,
   "id": "a87f0dbb-51bf-4fc6-bb62-5a3831bca7d7",
   "metadata": {},
   "outputs": [
    {
     "name": "stdout",
     "output_type": "stream",
     "text": [
      "Merged Data Preview:    HospitalID                              Name         Zip TypeControl  \\\n",
      "0       45740                  Mammoth Hospital  93546-0660    District   \n",
      "1       12145  Victor Valley Community Hospital       92392  Non Profit   \n",
      "2       25667        Pioneers Memorial Hospital       92227    District   \n",
      "3       46996      Ridgecrest Regional Hospital       93555  Non Profit   \n",
      "4       37393        Barstow Community Hospital       92311    Investor   \n",
      "\n",
      "      Teaching DonorType  NoFTE    NetPatRev    InOperExp   OutOperExp  ...  \\\n",
      "0  Small/Rural   Charity  327.0  135520.2186  20523425.53  34916220.47  ...   \n",
      "1  Small/Rural   Charity  345.0  136156.6913  33447542.78  20348596.22  ...   \n",
      "2  Small/Rural   Charity  601.2  197094.2541  37254178.67  37832448.33  ...   \n",
      "3  Small/Rural   Charity  400.0  139170.3798  23385570.10  24661355.90  ...   \n",
      "4  Small/Rural   Charity  262.0  116797.8306  13684502.49  15159986.51  ...   \n",
      "\n",
      "   AvlBeds   LastName  FirstName Gender             PositionTitle  \\\n",
      "0       15        Web      David      M  Safety Inspection Member   \n",
      "1       99  Rodriguez       Jose      M   Regional Representative   \n",
      "2      107    Adamson      David      M   Regional Representative   \n",
      "3       55    Roberts    Melissa      F  Safety Inspection Member   \n",
      "4       42      Iwata      Akira      M   Regional Representative   \n",
      "\n",
      "  Compensation MaxTerm  StartDate         Phone                         Email  \n",
      "0        23987       2   1/1/2012  785-532-2452     david.web@comenitymed.com  \n",
      "1        46978       4   1/1/2009  405-744-2238  jose.rodriguez@edihealth.com  \n",
      "2        46978       4   1/1/2012  785-532-7573    david.adamson@txbiomed.net  \n",
      "3        23987       2   1/1/2009  785-532-9779  melissa.roberts@txbiomed.net  \n",
      "4        46978       4   1/1/2011  801-611-9161           akira.iwata@hsu.edu  \n",
      "\n",
      "[5 rows x 22 columns]\n"
     ]
    }
   ],
   "source": [
    "import pandas as pd  # panda data handling\n",
    "from datetime import datetime  # for dates\n",
    "\n",
    "## Merging the Data \n",
    "hospitals = pd.read_csv(\"data/CaliforniaHospitalData.csv\")  # hospital data from bryan\n",
    "personnel = pd.read_csv(\"data/CaliforniaHospitalData_Personnel.txt\", sep='\\t')  # personnel data from bryan\n",
    "\n",
    "merged = pd.merge(hospitals, personnel, on=\"HospitalID\")  # join on HospitalID\n",
    "merged.drop(columns=[\"Work_ID\", \"PositionID\", \"Website\"], inplace=True)  # clean columns\n",
    "print(\"Merged Data Preview:\", merged.head())  # show merged data"
   ]
  },
  {
   "cell_type": "code",
   "execution_count": 82,
   "id": "cdad7f99-73b7-427a-ae70-277e9c516b19",
   "metadata": {},
   "outputs": [
    {
     "name": "stdout",
     "output_type": "stream",
     "text": [
      "Filtered Export Preview: Empty DataFrame\n",
      "Columns: [HospitalID, Name, Zip, TypeControl, Teaching, DonorType, NoFTE, NetPatRev, InOperExp, OutOperExp, OperRev, OperInc, AvlBeds, LastName, FirstName, Gender, PositionTitle, Compensation, MaxTerm, StartDate, Phone, Email]\n",
      "Index: []\n",
      "\n",
      "[0 rows x 22 columns]\n"
     ]
    }
   ],
   "source": [
    "## Exporting the Data\n",
    "# hospitals - Small/Rural, AvlBeds >= 15, OperInc >= 0\n",
    "filtered = merged[(merged[\"TypeControl\"] == \"Small/Rural\") & \n",
    "                   (merged[\"AvlBeds\"] >= 15) & \n",
    "                   (merged[\"OperInc\"] >= 0)]  # apply filters\n",
    "filtered.to_csv(\"data/hospital_data_new.txt\", sep='\\t', index=False)  # export clean data\n",
    "hospital_data = pd.read_csv(\"data/hospital_data_new.txt\", sep='\\t')  # import cleaned data\n",
    "print(\"Filtered Export Preview:\", filtered.head())  # show filtered data"
   ]
  },
  {
   "cell_type": "code",
   "execution_count": 84,
   "id": "531a7045-6668-4ab2-823c-7a4e4e9b6509",
   "metadata": {},
   "outputs": [
    {
     "name": "stdout",
     "output_type": "stream",
     "text": [
      "Renamed Columns Preview: Empty DataFrame\n",
      "Columns: [HospitalID, Name, Zip, TypeControl, Teaching, DonorType, FullTimeCount, NetPatientRevenue, InpatientOperExp, OutpatientOperExp, Operating_Revenue, Operating_Income, AvlBeds, LastName, FirstName, Gender, PositionTitle, Compensation, MaxTerm, StartDate, Phone, Email]\n",
      "Index: []\n",
      "\n",
      "[0 rows x 22 columns]\n"
     ]
    }
   ],
   "source": [
    "## Renaming Columns\n",
    "hospital_data.rename(columns={\n",
    "    \"NoFTE\": \"FullTimeCount\",\n",
    "    \"NetPatRev\": \"NetPatientRevenue\",\n",
    "    \"InOperExp\": \"InpatientOperExp\",\n",
    "    \"OutOperExp\": \"OutpatientOperExp\",\n",
    "    \"OperRev\": \"Operating_Revenue\",\n",
    "    \"OperInc\": \"Operating_Income\"\n",
    "}, inplace=True)  # rename asked columns\n",
    "print(\"Renamed Columns Preview:\", hospital_data.head())  # show renamed data"
   ]
  },
  {
   "cell_type": "code",
   "execution_count": 88,
   "id": "d237fae0-1637-48f8-8030-2eadae6da7e9",
   "metadata": {},
   "outputs": [
    {
     "name": "stdout",
     "output_type": "stream",
     "text": [
      "Inserted Rows Preview:\n",
      "    HospitalID LastName FirstName Gender             PositionTitle  \\\n",
      "0       99999  Dorband   Jessica      F   Regional Representative   \n",
      "1       88888  Dorband   Jessica      F  Safety Inspection Member   \n",
      "\n",
      "   Compensation  MaxTerm   StartDate  \n",
      "0         46978        4  04/14/2025  \n",
      "1         23987        2  04/14/2025  \n"
     ]
    }
   ],
   "source": [
    "## Inserting Records (simple and safe)\n",
    "new_rows = pd.DataFrame([\n",
    "    {\n",
    "        \"HospitalID\": 99999,  # example hospital ID\n",
    "        \"LastName\": \"Dorband\",\n",
    "        \"FirstName\": \"Jessica\",\n",
    "        \"Gender\": \"F\",\n",
    "        \"PositionTitle\": \"Regional Representative\",\n",
    "        \"Compensation\": 46978,\n",
    "        \"MaxTerm\": 4,\n",
    "        \"StartDate\": datetime.today().strftime('%m/%d/%Y')\n",
    "    },\n",
    "    {\n",
    "        \"HospitalID\": 88888,  # another example ID\n",
    "        \"LastName\": \"Dorband\",\n",
    "        \"FirstName\": \"Jessica\",\n",
    "        \"Gender\": \"F\",\n",
    "        \"PositionTitle\": \"Safety Inspection Member\",\n",
    "        \"Compensation\": 23987,\n",
    "        \"MaxTerm\": 2,\n",
    "        \"StartDate\": datetime.today().strftime('%m/%d/%Y')\n",
    "    }\n",
    "])\n",
    "print(\"Inserted Rows Preview:\\n\", new_rows)"
   ]
  },
  {
   "cell_type": "code",
   "execution_count": 57,
   "id": "0677a9d4-01aa-4888-b801-763b4946fa9b",
   "metadata": {},
   "outputs": [
    {
     "name": "stdout",
     "output_type": "stream",
     "text": [
      "Non-Profit Filtered Preview: Empty DataFrame\n",
      "Columns: [HospitalID, Name, Zip, TypeControl, Teaching, DonorType, FullTimeCount, NetPatientRevenue, InpatientOperExp, OutpatientOperExp, Operating_Revenue, Operating_Income, AvlBeds, Phone, Email]\n",
      "Index: []\n",
      "Regional Rep Filtered Preview: Empty DataFrame\n",
      "Columns: [HospitalID, Name, Zip, TypeControl, Teaching, DonorType, FullTimeCount, NetPatientRevenue, InpatientOperExp, OutpatientOperExp, Operating_Revenue, Operating_Income, AvlBeds, LastName, FirstName, Gender, PositionTitle, Compensation, MaxTerm, StartDate, Phone, Email]\n",
      "Index: []\n",
      "\n",
      "[0 rows x 22 columns]\n"
     ]
    }
   ],
   "source": [
    "new_merge = pd.concat([hospital_data, new_rows], ignore_index=True)  # add new records\n",
    "filtered_nonprofit = new_merge[\n",
    "    (new_merge[\"TypeControl\"] == \"Non-Profit\") &\n",
    "    (new_merge[\"FullTimeCount\"] > 250) &\n",
    "    (new_merge[\"NetPatientRevenue\"] >= 109000)]  # apply nonprofit constraints\n",
    "no_employee_cols = filtered_nonprofit.drop(columns=[\"LastName\", \"FirstName\", \"Gender\", \"PositionTitle\", \"Compensation\", \"MaxTerm\", \"StartDate\"])\n",
    "regional_reps = new_merge[\n",
    "    (new_merge[\"PositionTitle\"] == \"Regional Representative\") &\n",
    "    (new_merge[\"Operating_Income\"] > 100000)]  # filter reps with one constraint\n",
    "print(\"Non-Profit Filtered Preview:\", no_employee_cols.head())  # show filtered nonprofit\n",
    "print(\"Regional Rep Filtered Preview:\", regional_reps.head())  # show regional reps"
   ]
  },
  {
   "cell_type": "code",
   "execution_count": 59,
   "id": "a7c8d520-1062-47e2-9a47-c95c9d5c9aaa",
   "metadata": {},
   "outputs": [
    {
     "name": "stdout",
     "output_type": "stream",
     "text": [
      "\n",
      "First 5 dates:\n",
      " Series([], Name: StartDate, dtype: datetime64[ns])\n",
      "\n",
      "Column data types:\n",
      " HospitalID                   object\n",
      "Name                         object\n",
      "Zip                          object\n",
      "TypeControl                  object\n",
      "Teaching                     object\n",
      "DonorType                    object\n",
      "FullTimeCount                object\n",
      "NetPatientRevenue            object\n",
      "InpatientOperExp             object\n",
      "OutpatientOperExp            object\n",
      "Operating_Revenue            object\n",
      "Operating_Income             object\n",
      "AvlBeds                      object\n",
      "LastName                     object\n",
      "FirstName                    object\n",
      "Gender                       object\n",
      "PositionTitle                object\n",
      "Compensation                 object\n",
      "MaxTerm                      object\n",
      "StartDate            datetime64[ns]\n",
      "Phone                        object\n",
      "Email                        object\n",
      "dtype: object\n",
      "\n",
      "Regional Reps with income > $100,000:\n",
      " Empty DataFrame\n",
      "Columns: [FirstName, LastName, Operating_Income]\n",
      "Index: []\n"
     ]
    }
   ],
   "source": [
    "new_merge[\"StartDate\"] = pd.to_datetime(new_merge[\"StartDate\"])  # changing to datetime\n",
    "dtypes = new_merge.dtypes  # data types - look at types\n",
    "preview_dates = new_merge[\"StartDate\"].head()  # date check\n",
    "print(\"\\nFirst 5 dates:\\n\", preview_dates)  # date check\n",
    "print(\"\\nColumn data types:\\n\", dtypes)  # confirm added conversion\n",
    "print(\"\\nRegional Reps with income > $100,000:\\n\", regional_reps[[\"FirstName\", \"LastName\", \"Operating_Income\"]])  # last check - is this working?"
   ]
  },
  {
   "cell_type": "code",
   "execution_count": null,
   "id": "88650afe-6703-4958-b180-9ce9ec0635da",
   "metadata": {},
   "outputs": [],
   "source": [
    "W3Schools. (n.d.). Python If...Else. https://www.w3schools.com/python/python_conditions.asp\n",
    "pandas development team. (2024). pandas.DataFrame.merge. https://pandas.pydata.org/pandas-docs/stable/reference/api/pandas.DataFrame.merge.html\n",
    "Python Software Foundation. (n.d.). 5. Data Structures — Python 3 documentation. https://docs.python.org/3/tutorial/datastructures.html"
   ]
  }
 ],
 "metadata": {
  "kernelspec": {
   "display_name": "Python [conda env:base] *",
   "language": "python",
   "name": "conda-base-py"
  },
  "language_info": {
   "codemirror_mode": {
    "name": "ipython",
    "version": 3
   },
   "file_extension": ".py",
   "mimetype": "text/x-python",
   "name": "python",
   "nbconvert_exporter": "python",
   "pygments_lexer": "ipython3",
   "version": "3.12.7"
  }
 },
 "nbformat": 4,
 "nbformat_minor": 5
}
