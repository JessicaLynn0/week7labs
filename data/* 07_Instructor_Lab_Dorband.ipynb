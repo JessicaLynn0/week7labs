{
 "cells": [
  {
   "cell_type": "code",
   "execution_count": 2,
   "id": "7f6b0a59-95c3-476d-ad48-1a25f5c66790",
   "metadata": {},
   "outputs": [],
   "source": [
    "import pandas as pd  # panda data handling\n",
    "from sklearn.model_selection import KFold  # k-fold cross validation"
   ]
  },
  {
   "cell_type": "code",
   "execution_count": 4,
   "id": "ff508b4d-b447-40cd-ab18-f6730adbae5b",
   "metadata": {},
   "outputs": [
    {
     "name": "stdout",
     "output_type": "stream",
     "text": [
      "\n",
      "Column names:\n",
      " ['name_h', 'Team_type', 'Team_size_class', 'human_members_count', 'bot_members_count', 'human_work', 'work_per_human', 'human_gini', 'human_Push', 'human_IssueComments', 'human_PRReviewComment', 'human_MergedPR', 'bot_work', 'bot_Push', 'bot_IssueComments', 'bot_PRReviewComment', 'bot_MergedPR', 'eval_survival_day_median', 'issues_count']\n",
      "\n",
      "Number of columns: 19\n",
      "\n",
      "Number of rows: 608\n"
     ]
    }
   ],
   "source": [
    "## Accessing Data\n",
    "# 1 - 4 (* 1. Open the file within Python. 2. Find out what the column header names are. 3. Determine the number of columns. 4. Determine the number of rows.)\n",
    "github = pd.read_csv(\"github_teams.csv\")  # load github team data\n",
    "print(\"\\nColumn names:\\n\", github.columns.tolist()) # look at data\n",
    "print(\"\\nNumber of columns:\", len(github.columns)) # column count\n",
    "print(\"\\nNumber of rows:\", len(github)) #row count"
   ]
  },
  {
   "cell_type": "code",
   "execution_count": 20,
   "id": "3026a7eb-8b07-419e-9371-1a12d7925f75",
   "metadata": {},
   "outputs": [
    {
     "name": "stdout",
     "output_type": "stream",
     "text": [
      "\n",
      "Dtype after conversion:\n",
      " Team_type          category\n",
      "Team_size_class    category\n",
      "dtype: object\n"
     ]
    }
   ],
   "source": [
    "#5 (5. Determine which columns are categorical and convert them from *object* to *category*.)\n",
    "github[\"Team_type\"] = github[\"Team_type\"].astype(\"category\")\n",
    "github[\"Team_size_class\"] = github[\"Team_size_class\"].astype(\"category\") # convert object - category\n",
    "print(\"\\nDtype after conversion:\\n\", github[[\"Team_type\", \"Team_size_class\"]].dtypes)  # check if worked"
   ]
  },
  {
   "cell_type": "code",
   "execution_count": 8,
   "id": "ec317d74-d906-44d3-bad1-25eebfcfe968",
   "metadata": {},
   "outputs": [
    {
     "name": "stdout",
     "output_type": "stream",
     "text": [
      "\n",
      "Unique values in Team_type: 2\n",
      "\n",
      "Unique values in Team_size_class: 3\n"
     ]
    }
   ],
   "source": [
    "#6&7 (6. How many unique values does `Team_type` have? 7. How many unique values does `Team_size_class` have?)\n",
    "print(\"\\nUnique values in Team_type:\", github[\"Team_type\"].nunique()) # unique team_type\n",
    "print(\"\\nUnique values in Team_size_class:\", github[\"Team_size_class\"].nunique()) # unique Team_size_class"
   ]
  },
  {
   "cell_type": "code",
   "execution_count": 10,
   "id": "41d3a488-24d6-4458-b02c-ad52fe634a86",
   "metadata": {},
   "outputs": [
    {
     "name": "stdout",
     "output_type": "stream",
     "text": [
      "\n",
      "63rd row, 6th column: 35\n",
      "\n",
      "300th row values:\n",
      " name_h                      IyfocAGfAHLncCVJUujqTA/A_QZ6HlUb5sRQHhPa7SGzQ\n",
      "Team_type                                                       human-bot\n",
      "Team_size_class                                                    Medium\n",
      "human_members_count                                                     4\n",
      "bot_members_count                                                       1\n",
      "human_work                                                           1049\n",
      "work_per_human                                                     262.25\n",
      "human_gini                                                       0.448761\n",
      "human_Push                                                            739\n",
      "human_IssueComments                                                   213\n",
      "human_PRReviewComment                                                  91\n",
      "human_MergedPR                                                          6\n",
      "bot_work                                                               52\n",
      "bot_Push                                                                0\n",
      "bot_IssueComments                                                      52\n",
      "bot_PRReviewComment                                                     0\n",
      "bot_MergedPR                                                            0\n",
      "eval_survival_day_median                                             27.0\n",
      "issues_count                                                        243.0\n",
      "Name: 299, dtype: object\n"
     ]
    }
   ],
   "source": [
    "#8&9 (8. What is the value of the 63rd row and 6th column? 9. What are the values for the 300th row?)\n",
    "print(\"\\n63rd row, 6th column:\", github.iloc[62, 5]) # value of 63rd row and 6th column\n",
    "print(\"\\n300th row values:\\n\", github.iloc[299]) # values in 300th row"
   ]
  },
  {
   "cell_type": "code",
   "execution_count": 12,
   "id": "b49f39b5-1315-4bc5-a08e-736345e5def2",
   "metadata": {},
   "outputs": [
    {
     "name": "stdout",
     "output_type": "stream",
     "text": [
      "\n",
      "Row 595 (iloc):\n",
      " name_h             zAh1NECRCquqUJ_-1d6hAw/DET3jTK8hokYfY_neJ1IVQ\n",
      "Team_type                                              human-bot\n",
      "Team_size_class                                            Small\n",
      "Name: 595, dtype: object\n",
      "\n",
      "Row 595 (loc with column names):\n",
      " name_h             zAh1NECRCquqUJ_-1d6hAw/DET3jTK8hokYfY_neJ1IVQ\n",
      "Team_type                                              human-bot\n",
      "Team_size_class                                            Small\n",
      "Name: 595, dtype: object\n",
      "\n",
      "Row 595 (iloc list):\n",
      " name_h             zAh1NECRCquqUJ_-1d6hAw/DET3jTK8hokYfY_neJ1IVQ\n",
      "Team_type                                              human-bot\n",
      "Team_size_class                                            Small\n",
      "Name: 595, dtype: object\n"
     ]
    }
   ],
   "source": [
    "#10 ( 10. Using three different methods, select row with index value 595 with 1st, 2nd, 3rd columns.)\n",
    "print(\"\\nRow 595 (iloc):\\n\", github.iloc[595, 0:3]) # row 595, way 1\n",
    "print(\"\\nRow 595 (loc with column names):\\n\", github.loc[595, github.columns[0:3]]) # row 595, way 2\n",
    "print(\"\\nRow 595 (iloc list):\\n\", github.iloc[595, [0, 1, 2]]) # row 595, way 3"
   ]
  },
  {
   "cell_type": "code",
   "execution_count": 14,
   "id": "efaff6f0-d795-4d94-bbe5-fc1a8e12233e",
   "metadata": {},
   "outputs": [
    {
     "name": "stdout",
     "output_type": "stream",
     "text": [
      "\n",
      "Row 46 (iloc):\n",
      " Team_size_class       Medium\n",
      "work_per_human     31.833333\n",
      "Name: 46, dtype: object\n",
      "\n",
      "Row 46 (loc):\n",
      " Team_size_class       Medium\n",
      "work_per_human     31.833333\n",
      "Name: 46, dtype: object\n"
     ]
    }
   ],
   "source": [
    "#11 (11. Using two different methods, select the row with index value 46 with the 3rd and 7th columns.)\n",
    "print(\"\\nRow 46 (iloc):\\n\", github.iloc[46, [2, 6]]) # row 46, columns 3 and 7  way 1\n",
    "print(\"\\nRow 46 (loc):\\n\", github.loc[46, [github.columns[2], github.columns[6]]]) # row 46, columns 3 and 7 way 2"
   ]
  },
  {
   "cell_type": "code",
   "execution_count": 22,
   "id": "823c7951-442e-49b1-8d44-c1b90bcbc7d2",
   "metadata": {},
   "outputs": [
    {
     "name": "stdout",
     "output_type": "stream",
     "text": [
      "\n",
      "First 5 from bot_work_df1:\n",
      "    bot_work\n",
      "0        43\n",
      "1         0\n",
      "2         0\n",
      "3      1972\n",
      "4       302\n",
      "\n",
      "First 5 from bot_work_df2:\n",
      "    bot_work\n",
      "0        43\n",
      "1         0\n",
      "2         0\n",
      "3      1972\n",
      "4       302\n"
     ]
    }
   ],
   "source": [
    "#12 (12. Create a new DataFrame for the column `bot_work` using two different methods.)\n",
    "bot_work_df1 = github[[\"bot_work\"]]  # 1 -n ew df for bot_work\n",
    "print(\"\\nFirst 5 from bot_work_df1:\\n\", bot_work_df1.head())  # check df1\n",
    "bot_work_df2 = pd.DataFrame(github[\"bot_work\"])  # 2 - new df for bot_work\n",
    "print(\"\\nFirst 5 from bot_work_df2:\\n\", bot_work_df2.head())  # check df2"
   ]
  },
  {
   "cell_type": "code",
   "execution_count": 26,
   "id": "aab4ebc0-683b-467e-a977-852787d31d78",
   "metadata": {},
   "outputs": [
    {
     "name": "stdout",
     "output_type": "stream",
     "text": [
      "\n",
      "Human-bot teams with 2+ bots:\n",
      " 24\n"
     ]
    }
   ],
   "source": [
    "## Sorting and Ordering data \n",
    "# 1. Select `human-bot` teams that have a `bot_members_count` value greater than and equal to 2.\n",
    "filter1 = github[(github[\"Team_type\"] == \"human-bot\") & (github[\"bot_members_count\"] >= 2)]  # filter bots >=2\n",
    "print(\"\\nHuman-bot teams with 2+ bots:\\n\", len(filter1))  # show length"
   ]
  },
  {
   "cell_type": "code",
   "execution_count": 28,
   "id": "6248173a-1d51-4dd8-b221-9cca2d0f0376",
   "metadata": {},
   "outputs": [
    {
     "name": "stdout",
     "output_type": "stream",
     "text": [
      "\n",
      "Large human teams with gini >= 0.75:\n",
      " 4\n"
     ]
    }
   ],
   "source": [
    "# 2. Find the `human` teams that are `Large` and have a `human_gini` value greater than and equal to 0.75.\n",
    "filter2 = github[(github[\"Team_type\"] == \"human\") & (github[\"Team_size_class\"] == \"Large\") & (github[\"human_gini\"] >= 0.75)]\n",
    "print(\"\\nLarge human teams with gini >= 0.75:\\n\", len(filter2))  # show count"
   ]
  },
  {
   "cell_type": "code",
   "execution_count": 30,
   "id": "e438aceb-7470-4fb5-8dd0-3e0f3c48129e",
   "metadata": {},
   "outputs": [
    {
     "name": "stdout",
     "output_type": "stream",
     "text": [
      "\n",
      "Teams in Small or Large category: 428\n"
     ]
    }
   ],
   "source": [
    "# 3. How many teams are in the `Small` or `Large` category?\n",
    "filter3 = github[github[\"Team_size_class\"].isin([\"Small\", \"Large\"])]  # size filter\n",
    "print(\"\\nTeams in Small or Large category:\", len(filter3))  # show count"
   ]
  },
  {
   "cell_type": "code",
   "execution_count": 32,
   "id": "d28ed602-2697-41ab-822c-df96ea77c600",
   "metadata": {},
   "outputs": [
    {
     "name": "stdout",
     "output_type": "stream",
     "text": [
      "\n",
      "Teams in Small or Large with gini <= 0.20: 66\n"
     ]
    }
   ],
   "source": [
    "# 4. How many teams are in the `Small` or `Large` cateogry with a `human_gini` value less than and equal to 0.20?\n",
    "filter4 = github[(github[\"Team_size_class\"].isin([\"Small\", \"Large\"])) &  # size filter\n",
    "                 (github[\"human_gini\"] <= 0.20)]  # gini low\n",
    "print(\"\\nTeams in Small or Large with gini <= 0.20:\", len(filter4))  # show count"
   ]
  },
  {
   "cell_type": "code",
   "execution_count": 34,
   "id": "d0f8f4e4-db49-435f-9df4-8af6951f1dbb",
   "metadata": {},
   "outputs": [
    {
     "name": "stdout",
     "output_type": "stream",
     "text": [
      "\n",
      "Human-bot Medium teams: 84\n"
     ]
    }
   ],
   "source": [
    "# 5. How many `human-bot` teams are in the `Medium` category?\n",
    "filter5 = github[(github[\"Team_type\"] == \"human-bot\") &  # team type\n",
    "                 (github[\"Team_size_class\"] == \"Medium\")]  # size medium\n",
    "print(\"\\nHuman-bot Medium teams:\", len(filter5))  # show count"
   ]
  },
  {
   "cell_type": "code",
   "execution_count": 40,
   "id": "6a933688-756a-4a65-9115-6b3273bbd5b6",
   "metadata": {},
   "outputs": [
    {
     "name": "stdout",
     "output_type": "stream",
     "text": [
      "50% Sample Preview:                                             name_h  Team_type Team_size_class  \\\n",
      "65   3VFbLRx-am2PA7KH0P_qQQ/JhvGB8Nzuc1DqysPsJ_2EA  human-bot           Small   \n",
      "237  FJmB0zbVT0ileOMUPtWRIQ/v2hyhTxDNjcQKAdrTbpb-g  human-bot           Small   \n",
      "147  bi5TY2Z4OSQq3PMs6JnKYA/9b9IqkDK14ketwn88f3hKA  human-bot           Small   \n",
      "465  spL8LX3lBfeOPK4bBuqFSA/bkk-seJ9inTX7FeK-3cKzw      human          Medium   \n",
      "187  dONQnlabJ76NyiesZDhgaw/5Z26n_sfY_gu_ELgILfddQ  human-bot           Small   \n",
      "\n",
      "     human_members_count  bot_members_count  human_work  work_per_human  \\\n",
      "65                     2                  1          79       39.500000   \n",
      "237                    3                  1           8        2.666667   \n",
      "147                    3                  2         189       63.000000   \n",
      "465                    6                  0         322       53.666667   \n",
      "187                    3                  1         195       65.000000   \n",
      "\n",
      "     human_gini  human_Push  human_IssueComments  human_PRReviewComment  \\\n",
      "65     0.322785           1                    0                     78   \n",
      "237    0.416667           8                    0                      0   \n",
      "147    0.624339         174                   10                      5   \n",
      "465    0.493789         169                   63                     83   \n",
      "187    0.608547         188                    0                      0   \n",
      "\n",
      "     human_MergedPR  bot_work  bot_Push  bot_IssueComments  \\\n",
      "65                0         8         5                  3   \n",
      "237               0        24        24                  0   \n",
      "147               0       125         0                125   \n",
      "465               7         0         0                  0   \n",
      "187               7        67         0                 67   \n",
      "\n",
      "     bot_PRReviewComment  bot_MergedPR  eval_survival_day_median  issues_count  \n",
      "65                     0             0                       NaN           NaN  \n",
      "237                    0             0                       NaN           NaN  \n",
      "147                    0             0                      35.0           9.0  \n",
      "465                    0             0                       NaN           NaN  \n",
      "187                    0             0                       0.0           6.0  \n"
     ]
    }
   ],
   "source": [
    "# 6. Create a subsample of 50% of your data.\n",
    "sample_50 = github.sample(frac=0.5, random_state=1)  # get 50 percent sample\n",
    "print(\"50% Sample Preview:\", sample_50.head())  # show sample rows"
   ]
  },
  {
   "cell_type": "code",
   "execution_count": 50,
   "id": "3b7e3953-ba98-4711-9ea0-59fca68d6a34",
   "metadata": {},
   "outputs": [
    {
     "name": "stdout",
     "output_type": "stream",
     "text": [
      "\n",
      "K-Fold Splits:\n",
      "Train: [76 77 78 79 80] Test: [0 1 2 3 4]\n",
      "Train: [0 1 2 3 4] Test: [76 77 78 79 80]\n",
      "Train: [0 1 2 3 4] Test: [152 153 154 155 156]\n",
      "Train: [0 1 2 3 4] Test: [228 229 230 231 232]\n",
      "Train: [0 1 2 3 4] Test: [304 305 306 307 308]\n",
      "Train: [0 1 2 3 4] Test: [380 381 382 383 384]\n",
      "Train: [0 1 2 3 4] Test: [456 457 458 459 460]\n",
      "Train: [0 1 2 3 4] Test: [532 533 534 535 536]\n"
     ]
    }
   ],
   "source": [
    "# 7. Create samples for a 8-fold cross validation test.\n",
    "kf = KFold(n_splits=8)  # set up kfold\n",
    "print(\"\\nK-Fold Splits:\")  # label output\n",
    "for train_index, test_index in kf.split(github):  # split data\n",
    "    print(\"Train:\", train_index[:5], \"Test:\", test_index[:5])  # show indices\n"
   ]
  },
  {
   "cell_type": "code",
   "execution_count": 60,
   "id": "1c1f3907-d27c-4197-9b2a-30eaf6850732",
   "metadata": {},
   "outputs": [
    {
     "name": "stdout",
     "output_type": "stream",
     "text": [
      "\n",
      "Numeric columns preview:\n",
      "    human_members_count  bot_members_count  human_work  work_per_human  \\\n",
      "0                    2                  1          66       33.000000   \n",
      "1                    2                  0          62       31.000000   \n",
      "2                    7                  0         211       30.142857   \n",
      "3                  234                 12       14579       62.303419   \n",
      "4                   38                  8        1625       42.763158   \n",
      "\n",
      "   human_gini  human_Push  human_IssueComments  human_PRReviewComment  \\\n",
      "0    0.287879          29                   33                      4   \n",
      "1    0.467742          62                    0                      0   \n",
      "2    0.499661         194                   16                      1   \n",
      "3    0.738342        1942                11430                   1170   \n",
      "4    0.666607         203                 1270                    152   \n",
      "\n",
      "   human_MergedPR  bot_work  bot_Push  bot_IssueComments  bot_PRReviewComment  \\\n",
      "0               0        43         0                 43                    0   \n",
      "1               0         0         0                  0                    0   \n",
      "2               0         0         0                  0                    0   \n",
      "3              37      1972         0               1972                    0   \n",
      "4               0       302         0                302                    0   \n",
      "\n",
      "   bot_MergedPR  eval_survival_day_median  issues_count  \n",
      "0             0                      87.0           8.0  \n",
      "1             0                       NaN           NaN  \n",
      "2             0                      37.0          46.0  \n",
      "3             0                       1.0        4757.0  \n",
      "4             0                       2.0         777.0  \n"
     ]
    }
   ],
   "source": [
    "# 8. Select columns that are numeric and save it as a new DataFrame.\n",
    "github_numeric = github.select_dtypes(include='number')  # keep numeric columns\n",
    "print(\"\\nNumeric columns preview:\\n\", github_numeric.head())  # check if works"
   ]
  },
  {
   "cell_type": "code",
   "execution_count": 64,
   "id": "59ac4f6a-310a-4fc3-ab26-df7692c2712a",
   "metadata": {},
   "outputs": [
    {
     "name": "stdout",
     "output_type": "stream",
     "text": [
      "Numeric columns after drop:    human_members_count  bot_members_count  human_work  work_per_human  \\\n",
      "0                    2                  1          66       33.000000   \n",
      "1                    2                  0          62       31.000000   \n",
      "2                    7                  0         211       30.142857   \n",
      "3                  234                 12       14579       62.303419   \n",
      "4                   38                  8        1625       42.763158   \n",
      "\n",
      "   human_gini  human_Push  human_IssueComments  human_PRReviewComment  \\\n",
      "0    0.287879          29                   33                      4   \n",
      "1    0.467742          62                    0                      0   \n",
      "2    0.499661         194                   16                      1   \n",
      "3    0.738342        1942                11430                   1170   \n",
      "4    0.666607         203                 1270                    152   \n",
      "\n",
      "   human_MergedPR  bot_work  bot_Push  bot_IssueComments  \\\n",
      "0               0        43         0                 43   \n",
      "1               0         0         0                  0   \n",
      "2               0         0         0                  0   \n",
      "3              37      1972         0               1972   \n",
      "4               0       302         0                302   \n",
      "\n",
      "   eval_survival_day_median  issues_count  \n",
      "0                      87.0           8.0  \n",
      "1                       NaN           NaN  \n",
      "2                      37.0          46.0  \n",
      "3                       1.0        4757.0  \n",
      "4                       2.0         777.0  \n"
     ]
    }
   ],
   "source": [
    "# 9. Remove the columns `bot_PRReviewComment` and `bot_MergedPR` from the DataFrame.\n",
    "github_numeric_clean = github_numeric.drop(columns=[\"bot_PRReviewComment\", \"bot_MergedPR\"])  # drop 2 columns\n",
    "print(\"Numeric columns after drop:\", github_numeric_clean.head())  # checked if updated"
   ]
  },
  {
   "cell_type": "code",
   "execution_count": 66,
   "id": "0986e266-01e9-4514-a2d9-96ef41e7895b",
   "metadata": {},
   "outputs": [
    {
     "name": "stdout",
     "output_type": "stream",
     "text": [
      "Team info preview:   Team_size_class  human_members_count\n",
      "0           Small                    2\n",
      "1           Small                    2\n",
      "2           Large                    7\n",
      "3           Large                  234\n",
      "4           Large                   38\n"
     ]
    }
   ],
   "source": [
    "# 10. Save the columns `Team_size_class` and `human_members_count` as a new DataFrame.\n",
    "team_info = github[[\"Team_size_class\", \"human_members_count\"]]  # slice columns\n",
    "print(\"Team info preview:\", team_info.head())  # show preview"
   ]
  },
  {
   "cell_type": "code",
   "execution_count": 70,
   "id": "d2a8d376-de0d-47c9-a111-e906b3bf0865",
   "metadata": {},
   "outputs": [
    {
     "name": "stdout",
     "output_type": "stream",
     "text": [
      "\n",
      "Renamed team info preview:\n",
      "   TeamSizeClass  HumanMembers\n",
      "0         Small             2\n",
      "1         Small             2\n",
      "2         Large             7\n",
      "3         Large           234\n",
      "4         Large            38\n"
     ]
    }
   ],
   "source": [
    "# 11. Rename these two columns in the new DataFrame.\n",
    "team_info = team_info.rename(columns={  # rename cols\n",
    "    \"Team_size_class\": \"TeamSizeClass\",  # new name 1\n",
    "    \"human_members_count\": \"HumanMembers\"  # new name 2\n",
    "})  # apply rename\n",
    "print(\"\\nRenamed team info preview:\\n\", team_info.head())  # check result"
   ]
  }
 ],
 "metadata": {
  "kernelspec": {
   "display_name": "Python [conda env:base] *",
   "language": "python",
   "name": "conda-base-py"
  },
  "language_info": {
   "codemirror_mode": {
    "name": "ipython",
    "version": 3
   },
   "file_extension": ".py",
   "mimetype": "text/x-python",
   "name": "python",
   "nbconvert_exporter": "python",
   "pygments_lexer": "ipython3",
   "version": "3.12.7"
  }
 },
 "nbformat": 4,
 "nbformat_minor": 5
}
